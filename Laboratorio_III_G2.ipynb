{
 "cells": [
  {
   "cell_type": "markdown",
   "id": "249d7b70-3f80-4cfc-bac7-39365a5b0cec",
   "metadata": {},
   "source": [
    "<center>\n",
    "    \n",
    "    \n",
    "# Taller de instrumentación \n",
    "## Laboratorio III: Diseño de un sistema de adquisición de datos.\n",
    "## Parte II\n",
    "</center>\n",
    "    \n",
    "    \n",
    "## Estudiantes:\n",
    "Luis Diego Trejos Madrid\n",
    "\n",
    "Natalia María Navarro Vega\n",
    "\n",
    "Cristian Alonso Arias Vargas\n",
    "\n",
    "\n",
    "\n",
    "\n",
    "<center>\n",
    "II Semestre 2023\n",
    "</center>"
   ]
  },
  {
   "cell_type": "raw",
   "id": "b8cda26d-e38b-4d4b-88ee-e9168aded6f3",
   "metadata": {},
   "source": [
    "## DISEÑO DEL CIRCUITO\n",
    "\n",
    "&nbsp;&nbsp;&nbsp; El diseño para este avance se hizo manteniendo algunos aspectos del diseño anterior, sin embargo, varias configuraciones si debieron ser cambiadas, a continuación se muestra una imagen del circuito."
   ]
  },
  {
   "cell_type": "code",
   "execution_count": null,
   "id": "42303f7e-09cc-4fcc-8fc5-bcef321de8af",
   "metadata": {},
   "outputs": [],
   "source": []
  },
  {
   "cell_type": "raw",
   "id": "b6c37a18-953b-498b-9da4-f01066d49fdb",
   "metadata": {},
   "source": [
    "Como se puede observar en la imagen, se mantiene una etapa diferencial, la de transconductancia y la del optoacoplador, no obstante, ahora se agregó una etapa de amplificación después de la etapa diferencial y se modificó la etapa de transconductancia.\n",
    "\n",
    "### Etapa diferencial y de aislamiento\n",
    "\n",
    "&nbsp;&nbsp;&nbsp; \n",
    "\n",
    "#### Etapa diferencial:\n",
    "\n",
    "&nbsp;&nbsp;&nbsp;  \n",
    "\n",
    "\n",
    "![diferencial](Etapa_diferencial.png)\n",
    " \n",
    "\n",
    "\n",
    "#### Etapa Amplificador Transconductor:\n",
    "\n",
    "&nbsp;&nbsp;&nbsp;  \n",
    "\n",
    "\n",
    "\n",
    "\n",
    "![transconductor](Amplificador_transconductor.png)\n",
    "\n",
    "\n",
    "#### Etapa del octocoplador:\n",
    "\n",
    "&nbsp;&nbsp;&nbsp;  \n",
    "\n",
    "\n",
    "\n",
    "![eocto](Octocoplador.png)\n",
    "\n",
    "\n",
    "#### Circuito de aislamiento simulado completo:  \n",
    "\n",
    "\n",
    "![octocoplador](Etapa_octocoplador.png)\n",
    "\n",
    "\n",
    "#### Circuito físico:  \n",
    "\n",
    "\n",
    "![octo_fisico](Circuito_octo_fisico.jpg)"
   ]
  },
  {
   "cell_type": "raw",
   "id": "5168b6f7-25f5-4569-8cc3-27d4bfa00b5e",
   "metadata": {},
   "source": [
    "### Etapa de Ganancia\n",
    "\n",
    "&nbsp;&nbsp;&nbsp; \n",
    "\n",
    "| Configuración | R2 (Ω) | Ganancia |\n",
    "|:-------------:|:------:|:--------:|\n",
    "| 1 |  |  |\n",
    "| 2 |  |  |\n",
    "| 3 |  |  |\n",
    "| 4 |  |  |\n",
    "| 5 |  |  |\n",
    "| 6 |  |  |\n",
    "\n",
    "Seguidamente se pueden observar los circuitos tanto en simulación como físico.\n",
    "\n",
    "#### Simulación"
   ]
  },
  {
   "cell_type": "code",
   "execution_count": null,
   "id": "0a8cd7f7-130f-4b2c-b71b-ed10035eb691",
   "metadata": {},
   "outputs": [],
   "source": []
  },
  {
   "cell_type": "raw",
   "id": "781dea39-1527-466c-9fcb-3d761a09f916",
   "metadata": {},
   "source": [
    "#### Circuito físico"
   ]
  },
  {
   "cell_type": "code",
   "execution_count": null,
   "id": "1236d59f-7c1a-4498-b906-8249dd594a94",
   "metadata": {},
   "outputs": [],
   "source": []
  },
  {
   "cell_type": "raw",
   "id": "66e0e2f5-18a2-4b1a-b579-5f111ae72835",
   "metadata": {},
   "source": [
    "## Código de programación"
   ]
  },
  {
   "cell_type": "raw",
   "id": "ed945773-9ab1-4af0-829a-c5f1d8bd8847",
   "metadata": {},
   "source": [
    "Para el funcionamiento de este proyecto se utilizaron dos códigos diferentes, uno escrito en Arduino IDE que se carga al microcontrolador, y otro escrito en Python que se encarga de mostrar la interfaz con la que el usuario interactua, además de ser el encargado de cargar las mediciones a una base de datos en MySQL cuando el usuario lo desea."
   ]
  },
  {
   "cell_type": "code",
   "execution_count": null,
   "id": "8e6b3bbd-7381-4f5f-ae63-43e20cb43019",
   "metadata": {},
   "outputs": [],
   "source": []
  },
  {
   "cell_type": "code",
   "execution_count": null,
   "id": "b2dbd8fd-ac8c-489d-b129-6663c1fa7eab",
   "metadata": {},
   "outputs": [],
   "source": []
  },
  {
   "cell_type": "raw",
   "id": "a6e5ccd1-cddd-412b-b0d1-c57fe2e1ff05",
   "metadata": {},
   "source": [
    "## Resultados\n",
    "\n",
    "&nbsp;&nbsp;&nbsp; En el siguiente apartado se compararán los resultados obtenidos a partir del circuito físico, con respecto a las simulaciones hechas en la aplicación.\n",
    "\n",
    "### Etapa de ganancias:\n",
    "\n",
    "#### Configuración 1, ganancia de ___________________________________________________\n",
    "\n",
    "##### Simulación:"
   ]
  },
  {
   "cell_type": "code",
   "execution_count": null,
   "id": "bc6d7c71-4b79-41cd-8cb7-7ce985b44a10",
   "metadata": {},
   "outputs": [],
   "source": []
  },
  {
   "cell_type": "code",
   "execution_count": null,
   "id": "1ae02335-ba2b-4190-ae51-95707abd2d0e",
   "metadata": {},
   "outputs": [],
   "source": [
    "#### Circuito físico"
   ]
  },
  {
   "cell_type": "code",
   "execution_count": null,
   "id": "59e35f86-4c9d-426f-9b43-c84a668baff6",
   "metadata": {},
   "outputs": [],
   "source": []
  },
  {
   "cell_type": "code",
   "execution_count": null,
   "id": "5c678c0d-ca7c-4072-88b3-4583c69049c6",
   "metadata": {},
   "outputs": [],
   "source": [
    "#### Configuración 2, ganancia de ___________________________________________________\n",
    "\n",
    "##### Simulación:"
   ]
  },
  {
   "cell_type": "code",
   "execution_count": null,
   "id": "2f5072f8-6b68-4497-9a98-db7513f3b480",
   "metadata": {},
   "outputs": [],
   "source": []
  },
  {
   "cell_type": "code",
   "execution_count": null,
   "id": "7679564e-2c09-4c14-88eb-2c4c65f32681",
   "metadata": {},
   "outputs": [],
   "source": [
    "#### Circuito físico e interfaz en la PC"
   ]
  },
  {
   "cell_type": "code",
   "execution_count": null,
   "id": "bfe404a0-c544-4ccc-a55b-3a595a7954d4",
   "metadata": {},
   "outputs": [],
   "source": []
  },
  {
   "cell_type": "code",
   "execution_count": null,
   "id": "19990b73-158d-42d0-9c54-d08fb75632dd",
   "metadata": {},
   "outputs": [],
   "source": [
    "#### Configuración 3, ganancia de ___________________________________________________\n",
    "\n",
    "##### Simulación:"
   ]
  },
  {
   "cell_type": "code",
   "execution_count": null,
   "id": "4304dd16-3f4c-472e-b93a-c6f24463c9f3",
   "metadata": {},
   "outputs": [],
   "source": []
  },
  {
   "cell_type": "code",
   "execution_count": null,
   "id": "bb18fd4d-d568-458b-b42a-36d81d0684fa",
   "metadata": {},
   "outputs": [],
   "source": [
    "#### Circuito físico e interfaz en la PC"
   ]
  },
  {
   "cell_type": "code",
   "execution_count": null,
   "id": "efa1e077-082d-48bd-bdbf-4915948534d6",
   "metadata": {},
   "outputs": [],
   "source": []
  },
  {
   "cell_type": "code",
   "execution_count": null,
   "id": "15797d66-4a4a-4021-a3dd-d89b90064042",
   "metadata": {},
   "outputs": [],
   "source": [
    "#### Configuración 4, ganancia de ___________________________________________________\n",
    "\n",
    "##### Simulación:"
   ]
  },
  {
   "cell_type": "code",
   "execution_count": null,
   "id": "e681c074-eb7c-4805-9026-f9fa4715461b",
   "metadata": {},
   "outputs": [],
   "source": []
  },
  {
   "cell_type": "code",
   "execution_count": null,
   "id": "bbb270c6-6748-4c0c-bc48-830454c89edf",
   "metadata": {},
   "outputs": [],
   "source": [
    "#### Circuito físico e interfaz en la PC"
   ]
  },
  {
   "cell_type": "code",
   "execution_count": null,
   "id": "abe1aad2-823c-44f5-95aa-2f1d6d46f904",
   "metadata": {},
   "outputs": [],
   "source": []
  },
  {
   "cell_type": "code",
   "execution_count": null,
   "id": "5014fbf0-3de3-4e79-a629-a16ef48e2592",
   "metadata": {},
   "outputs": [],
   "source": [
    "#### Configuración 5, ganancia de ___________________________________________________\n",
    "\n",
    "##### Simulación:"
   ]
  },
  {
   "cell_type": "code",
   "execution_count": null,
   "id": "d60e8abb-79ec-4c1c-9485-320b3e813dce",
   "metadata": {},
   "outputs": [],
   "source": []
  },
  {
   "cell_type": "code",
   "execution_count": null,
   "id": "b5a26866-9cdf-4f4a-82be-aeb5ca34ca1e",
   "metadata": {},
   "outputs": [],
   "source": [
    "#### Circuito físico e interfaz en la PC"
   ]
  },
  {
   "cell_type": "code",
   "execution_count": null,
   "id": "dbf9ee9a-ed31-409b-bfd2-456a8163abe8",
   "metadata": {},
   "outputs": [],
   "source": []
  },
  {
   "cell_type": "code",
   "execution_count": null,
   "id": "9b5ab52d-e7b8-419d-a824-7072be7384f2",
   "metadata": {},
   "outputs": [],
   "source": [
    "#### Configuración 6, ganancia de ___________________________________________________\n",
    "\n",
    "##### Simulación:"
   ]
  },
  {
   "cell_type": "code",
   "execution_count": null,
   "id": "f11e3dc7-af0e-44fb-90d0-e12c243dc881",
   "metadata": {},
   "outputs": [],
   "source": []
  },
  {
   "cell_type": "code",
   "execution_count": null,
   "id": "4282f031-3af2-4a85-95aa-6e62aa5eb80e",
   "metadata": {},
   "outputs": [],
   "source": [
    "#### Circuito físico e interfaz en la PC"
   ]
  },
  {
   "cell_type": "code",
   "execution_count": null,
   "id": "03ba22f3-8d8d-4740-b53f-7c38bdc90082",
   "metadata": {},
   "outputs": [],
   "source": []
  },
  {
   "cell_type": "raw",
   "id": "b32d1e16-dc85-4751-9747-14f19e434a44",
   "metadata": {},
   "source": [
    "## Conclusiones\n",
    "\n",
    "*1.*  \n",
    "\n",
    "*2.*  \n",
    "\n",
    "*3.* \n",
    "    \n",
    "## Recomendaciones\n",
    "\n",
    "&nbsp;&nbsp;&nbsp; "
   ]
  }
 ],
 "metadata": {
  "kernelspec": {
   "display_name": "Python 3 (ipykernel)",
   "language": "python",
   "name": "python3"
  },
  "language_info": {
   "codemirror_mode": {
    "name": "ipython",
    "version": 3
   },
   "file_extension": ".py",
   "mimetype": "text/x-python",
   "name": "python",
   "nbconvert_exporter": "python",
   "pygments_lexer": "ipython3",
   "version": "3.9.5"
  }
 },
 "nbformat": 4,
 "nbformat_minor": 5
}
